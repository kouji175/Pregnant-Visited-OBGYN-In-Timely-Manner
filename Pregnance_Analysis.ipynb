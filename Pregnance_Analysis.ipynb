{
 "cells": [
  {
   "cell_type": "code",
   "execution_count": 75,
   "id": "27d2bfcf-ca54-44c5-b698-450c1501d657",
   "metadata": {},
   "outputs": [],
   "source": [
    "import numpy as np\n",
    "import pandas as pd\n",
    "import matplotlib.pyplot as plt\n",
    "from datetime import datetime, timedelta\n",
    "%matplotlib inline"
   ]
  },
  {
   "cell_type": "code",
   "execution_count": 353,
   "id": "b987bd77-307e-48a1-bfd5-89bb0dd1a2b9",
   "metadata": {},
   "outputs": [],
   "source": [
    "patient=pd.read_csv('D:\\OneDrive\\桌面\\RE_Re：MAPMG Technical Assessment - cannot find at20230927042517\\Pregnancy Assessment\\Patient_Table.csv',parse_dates=['birth_date'])"
   ]
  },
  {
   "cell_type": "code",
   "execution_count": 354,
   "id": "5f324199-4ac3-407d-9bdb-02788005523a",
   "metadata": {},
   "outputs": [
    {
     "name": "stdout",
     "output_type": "stream",
     "text": [
      "<class 'pandas.core.frame.DataFrame'>\n",
      "RangeIndex: 50000 entries, 0 to 49999\n",
      "Data columns (total 5 columns):\n",
      " #   Column             Non-Null Count  Dtype         \n",
      "---  ------             --------------  -----         \n",
      " 0   unique_patient_id  50000 non-null  int64         \n",
      " 1   gender             50000 non-null  object        \n",
      " 2   birth_date         50000 non-null  datetime64[ns]\n",
      " 3   pat_loc_id         50000 non-null  int64         \n",
      " 4   pat_pcp_id         50000 non-null  int64         \n",
      "dtypes: datetime64[ns](1), int64(3), object(1)\n",
      "memory usage: 1.9+ MB\n"
     ]
    }
   ],
   "source": [
    "patient.info()"
   ]
  },
  {
   "cell_type": "code",
   "execution_count": 355,
   "id": "2202dd9d-7b6d-485f-8d13-c0acd966af2b",
   "metadata": {},
   "outputs": [],
   "source": [
    "encounter_dx=pd.read_csv('D:\\OneDrive\\桌面\\RE_Re：MAPMG Technical Assessment - cannot find at20230927042517\\Pregnancy Assessment\\Encounter_dx_Table_nodot.csv')\n",
    "encounter=pd.read_csv('D:\\OneDrive\\桌面\\RE_Re：MAPMG Technical Assessment - cannot find at20230927042517\\Pregnancy Assessment\\Encounter_Table.csv',parse_dates=['enc_date','due_date'])\n",
    "pregnance_code=pd.read_csv('D:\\OneDrive\\桌面\\RE_Re：MAPMG Technical Assessment - cannot find at20230927042517\\Pregnancy Assessment\\Pregnancy_Diagnosis_no_dot.csv')\n",
    "provider=Pregnance_code=pd.read_csv('D:\\OneDrive\\桌面\\RE_Re：MAPMG Technical Assessment - cannot find at20230927042517\\Pregnancy Assessment\\Provider_Table.csv')"
   ]
  },
  {
   "cell_type": "code",
   "execution_count": 425,
   "id": "e2d68b9b-6e52-4afe-b8a7-bf24be358f80",
   "metadata": {},
   "outputs": [
    {
     "name": "stdout",
     "output_type": "stream",
     "text": [
      "<class 'pandas.core.frame.DataFrame'>\n",
      "RangeIndex: 391641 entries, 0 to 391640\n",
      "Data columns (total 5 columns):\n",
      " #   Column     Non-Null Count   Dtype \n",
      "---  ------     --------------   ----- \n",
      " 0   dx_enc_id  391641 non-null  int64 \n",
      " 1   dx_line    391641 non-null  int64 \n",
      " 2   dx_icd     391641 non-null  object\n",
      " 3   pregancy   391641 non-null  object\n",
      " 4   pregnancy  9338 non-null    object\n",
      "dtypes: int64(2), object(3)\n",
      "memory usage: 14.9+ MB\n",
      "<class 'pandas.core.frame.DataFrame'>\n",
      "RangeIndex: 150000 entries, 0 to 149999\n",
      "Data columns (total 6 columns):\n",
      " #   Column          Non-Null Count   Dtype         \n",
      "---  ------          --------------   -----         \n",
      " 0   enc_id          150000 non-null  int64         \n",
      " 1   enc_patient_id  150000 non-null  int64         \n",
      " 2   visit_prov_id   150000 non-null  int64         \n",
      " 3   enc_status      150000 non-null  object        \n",
      " 4   enc_date        150000 non-null  datetime64[ns]\n",
      " 5   due_date        2147 non-null    datetime64[ns]\n",
      "dtypes: datetime64[ns](2), int64(3), object(1)\n",
      "memory usage: 6.9+ MB\n",
      "<class 'pandas.core.frame.DataFrame'>\n",
      "RangeIndex: 1692 entries, 0 to 1691\n",
      "Data columns (total 1 columns):\n",
      " #   Column  Non-Null Count  Dtype \n",
      "---  ------  --------------  ----- \n",
      " 0   code    1692 non-null   object\n",
      "dtypes: object(1)\n",
      "memory usage: 13.3+ KB\n",
      "<class 'pandas.core.frame.DataFrame'>\n",
      "RangeIndex: 50 entries, 0 to 49\n",
      "Data columns (total 4 columns):\n",
      " #   Column       Non-Null Count  Dtype \n",
      "---  ------       --------------  ----- \n",
      " 0   prov_id      50 non-null     int64 \n",
      " 1   prov_name    50 non-null     object\n",
      " 2   prov_loc_id  50 non-null     int64 \n",
      " 3   prov_spec    50 non-null     object\n",
      "dtypes: int64(2), object(2)\n",
      "memory usage: 1.7+ KB\n"
     ]
    }
   ],
   "source": [
    "encounter_dx.info()\n",
    "encounter.info()\n",
    "pregnance_code.info()\n",
    "provider.info()\n",
    "encounter_dx = encounter_dx.apply(lambda col: col.str.strip() if col.dtype == 'object' else col)\n",
    "encounter = encounter.apply(lambda col: col.str.strip() if col.dtype == 'object' else col)\n",
    "pregnance_code = pregnance_code.apply(lambda col: col.str.strip() if col.dtype == 'object' else col)\n",
    "provider = provider.apply(lambda col: col.str.strip() if col.dtype == 'object' else col)"
   ]
  },
  {
   "cell_type": "code",
   "execution_count": 426,
   "id": "5f06f64d-288c-41a9-9aec-ca42efc9c556",
   "metadata": {},
   "outputs": [
    {
     "data": {
      "text/plain": [
       "(150000, 12)"
      ]
     },
     "execution_count": 426,
     "metadata": {},
     "output_type": "execute_result"
    }
   ],
   "source": [
    "merged_df = pd.merge(encounter, patient, left_on='enc_patient_id', right_on='unique_patient_id',how='inner')\n",
    "merged_df['age'] = (merged_df['enc_date'] - merged_df['birth_date'])/ np.timedelta64(1, 'Y')\n",
    "merged_df.shape"
   ]
  },
  {
   "cell_type": "code",
   "execution_count": 427,
   "id": "d0bf67b7-b7ea-4ed4-80a7-dc5b9be47247",
   "metadata": {},
   "outputs": [
    {
     "data": {
      "text/plain": [
       "40111"
      ]
     },
     "execution_count": 427,
     "metadata": {},
     "output_type": "execute_result"
    }
   ],
   "source": [
    "df_18=merged_df[merged_df['age']>=18]\n",
    "df_18.enc_patient_id.nunique()"
   ]
  },
  {
   "cell_type": "code",
   "execution_count": 429,
   "id": "07513076-9826-45b8-8e23-789ae5101068",
   "metadata": {},
   "outputs": [
    {
     "data": {
      "text/plain": [
       "15148"
      ]
     },
     "execution_count": 429,
     "metadata": {},
     "output_type": "execute_result"
    }
   ],
   "source": [
    "prov_obgyn=provider[provider['prov_spec']=='OBGYN']\n",
    "df_18_obgyn=df_18[df_18['visit_prov_id'].isin(prov_obgyn['prov_id'].values)]\n",
    "df_18_obgyn=df_18_obgyn[df_18_obgyn['gender']=='F']\n",
    "df_18_obgyn.enc_patient_id.nunique()"
   ]
  },
  {
   "cell_type": "code",
   "execution_count": 430,
   "id": "68d4bdfb-ceff-4acf-8df7-912dc57b6216",
   "metadata": {},
   "outputs": [
    {
     "name": "stdout",
     "output_type": "stream",
     "text": [
      "<class 'pandas.core.frame.DataFrame'>\n",
      "RangeIndex: 391641 entries, 0 to 391640\n",
      "Data columns (total 5 columns):\n",
      " #   Column     Non-Null Count   Dtype \n",
      "---  ------     --------------   ----- \n",
      " 0   dx_enc_id  391641 non-null  int64 \n",
      " 1   dx_line    391641 non-null  int64 \n",
      " 2   dx_icd     391641 non-null  object\n",
      " 3   pregancy   391641 non-null  object\n",
      " 4   pregnancy  9338 non-null    object\n",
      "dtypes: int64(2), object(3)\n",
      "memory usage: 14.9+ MB\n"
     ]
    }
   ],
   "source": [
    "encounter_dx.info()"
   ]
  },
  {
   "cell_type": "code",
   "execution_count": 431,
   "id": "6fdfb75d-6038-49c5-a7d7-315cb6905dfe",
   "metadata": {},
   "outputs": [
    {
     "name": "stdout",
     "output_type": "stream",
     "text": [
      "<class 'pandas.core.frame.DataFrame'>\n",
      "RangeIndex: 1692 entries, 0 to 1691\n",
      "Data columns (total 1 columns):\n",
      " #   Column  Non-Null Count  Dtype \n",
      "---  ------  --------------  ----- \n",
      " 0   code    1692 non-null   object\n",
      "dtypes: object(1)\n",
      "memory usage: 13.3+ KB\n"
     ]
    }
   ],
   "source": [
    "pregnance_code.info()"
   ]
  },
  {
   "cell_type": "code",
   "execution_count": 380,
   "id": "d4fc34fb-cd1e-4524-a920-b9ce351dc293",
   "metadata": {},
   "outputs": [],
   "source": [
    "encounter_dx['pregancy']='NA'\n",
    "for i in range(len(encounter_dx)):\n",
    "    if encounter_dx.iloc[i,2] in pregnance_code['code'].values:\n",
    "        encounter_dx.iloc[i,3] = 'Y'"
   ]
  },
  {
   "cell_type": "code",
   "execution_count": 433,
   "id": "58777af4-cac9-4131-8a1a-53f6f91d06d5",
   "metadata": {},
   "outputs": [
    {
     "data": {
      "text/plain": [
       "(13906, 5)"
      ]
     },
     "execution_count": 433,
     "metadata": {},
     "output_type": "execute_result"
    }
   ],
   "source": [
    "enc_preg=encounter_dx[encounter_dx['pregancy']=='Y']\n",
    "enc_preg.shape"
   ]
  },
  {
   "cell_type": "code",
   "execution_count": 434,
   "id": "dddce066-c035-4e6a-88d6-e88d00e41c80",
   "metadata": {},
   "outputs": [
    {
     "data": {
      "text/plain": [
       "(3425, 12)"
      ]
     },
     "execution_count": 434,
     "metadata": {},
     "output_type": "execute_result"
    }
   ],
   "source": [
    "condition_1=df_18_obgyn['due_date'].isnull() & df_18_obgyn['enc_id'].isin(enc_preg['dx_enc_id'].values)\n",
    "condition_2=~df_18_obgyn['due_date'].isnull()\n",
    "df_18_obgyn_preg = df_18_obgyn[ (condition_1 | condition_2) ]\n",
    "df_18_obgyn_preg=df_18_obgyn_preg[df_18_obgyn_preg['gender']=='F']\n",
    "df_18_obgyn_preg.shape "
   ]
  },
  {
   "cell_type": "code",
   "execution_count": 435,
   "id": "e8357832-101a-4190-a13d-d612c819ab31",
   "metadata": {},
   "outputs": [
    {
     "name": "stdout",
     "output_type": "stream",
     "text": [
      "2624\n"
     ]
    }
   ],
   "source": [
    "unique_pt_count = df_18_obgyn_preg['enc_patient_id'].nunique()\n",
    "print(unique_pt_count)"
   ]
  },
  {
   "cell_type": "code",
   "execution_count": 436,
   "id": "fb52de04-ec89-4866-80c5-7e392763b331",
   "metadata": {},
   "outputs": [],
   "source": [
    "patient_without_due_date=df_18_obgyn_preg[df_18_obgyn_preg['due_date'].isnull()]['enc_patient_id']\n",
    "with_na = df_18_obgyn_preg[df_18_obgyn_preg['enc_patient_id'].isin(patient_without_due_date)]\n",
    "without_na=df_18_obgyn_preg[~df_18_obgyn_preg['enc_patient_id'].isin(patient_without_due_date)]"
   ]
  },
  {
   "cell_type": "code",
   "execution_count": 462,
   "id": "4962adb4-67b6-4d20-a2f4-3d63a44eeeab",
   "metadata": {},
   "outputs": [
    {
     "name": "stdout",
     "output_type": "stream",
     "text": [
      "2347 277\n",
      "(2534, 13) (891, 13)\n"
     ]
    }
   ],
   "source": [
    "print(with_na['enc_patient_id'].nunique(),without_na['enc_patient_id'].nunique())\n",
    "print(with_na.shape,without_na.shape)"
   ]
  },
  {
   "cell_type": "code",
   "execution_count": 438,
   "id": "9beaab5f-54c9-463e-b7f8-c146628bacc3",
   "metadata": {
    "scrolled": true
   },
   "outputs": [
    {
     "name": "stderr",
     "output_type": "stream",
     "text": [
      "C:\\Users\\Zheng\\AppData\\Local\\Temp\\ipykernel_36956\\3979303875.py:1: SettingWithCopyWarning: \n",
      "A value is trying to be set on a copy of a slice from a DataFrame.\n",
      "Try using .loc[row_indexer,col_indexer] = value instead\n",
      "\n",
      "See the caveats in the documentation: https://pandas.pydata.org/pandas-docs/stable/user_guide/indexing.html#returning-a-view-versus-a-copy\n",
      "  without_na.loc[:,'on_time']='N'\n"
     ]
    }
   ],
   "source": [
    "without_na.loc[:,'on_time']='N'\n",
    "grouped=without_na.groupby([\"enc_patient_id\"])\n",
    "for patient_id,group in grouped:\n",
    "    forty_weeks_before = group.iloc[0]['due_date']-pd.DateOffset(weeks=40)\n",
    "    ts_weeks_before = group.iloc[0]['due_date']-pd.DateOffset(weeks=27)\n",
    "    for index, row in group.iterrows():    \n",
    "        if any((group['enc_date'] >= forty_weeks_before) & (group['enc_date'] <= ts_weeks_before)):\n",
    "            without_na.loc[index, 'on_time'] = 'Y'"
   ]
  },
  {
   "cell_type": "code",
   "execution_count": 439,
   "id": "f3985ec7-20b2-4b10-bf86-01d4b3183ad9",
   "metadata": {},
   "outputs": [],
   "source": [
    "without_na.to_csv('D:\\OneDrive\\桌面\\RE_Re：MAPMG Technical Assessment - cannot find at20230927042517\\Pregnancy Assessment\\without_na.csv')\n",
    "with_na.to_csv('D:\\OneDrive\\桌面\\RE_Re：MAPMG Technical Assessment - cannot find at20230927042517\\Pregnancy Assessment\\with_na.csv')"
   ]
  },
  {
   "cell_type": "code",
   "execution_count": 446,
   "id": "c8121b46-23ed-47de-8c52-4aa6761e65b9",
   "metadata": {},
   "outputs": [
    {
     "name": "stdout",
     "output_type": "stream",
     "text": [
      "On time pregnant female: 275\n",
      "Not on time pregnant female: 2\n"
     ]
    }
   ],
   "source": [
    "print('On time pregnant female:',without_na[without_na['on_time']=='Y']['enc_patient_id'].nunique())\n",
    "print('Not on time pregnant female:',without_na[without_na['on_time']=='N']['enc_patient_id'].nunique())"
   ]
  },
  {
   "cell_type": "code",
   "execution_count": 447,
   "id": "89f8861f-1b7e-404a-b584-b630ff0319ea",
   "metadata": {},
   "outputs": [],
   "source": [
    "with_na.loc[:,'on_time']='N'\n",
    "grouped=with_na.sort_values('enc_date').groupby([\"enc_patient_id\"])\n",
    "for patient_id,group in grouped:\n",
    "    enc_date = group.iloc[0]['enc_date']\n",
    "    six_weeks_after=enc_date+ pd.DateOffset(weeks=6)\n",
    "    for index, row in group.iterrows():    \n",
    "        if any((group['enc_date'] > enc_date) & (group['enc_date'] <= six_weeks_after)):\n",
    "            with_na.loc[index, 'on_time'] = 'Y'\n"
   ]
  },
  {
   "cell_type": "code",
   "execution_count": 448,
   "id": "4559f6f8-4c66-431b-88bd-e28b7b23776b",
   "metadata": {},
   "outputs": [
    {
     "name": "stdout",
     "output_type": "stream",
     "text": [
      "On time pregnant female: 38\n",
      "Not on time pregnant female: 2309\n"
     ]
    }
   ],
   "source": [
    "print('On time pregnant female:',with_na[with_na['on_time']=='Y']['enc_patient_id'].nunique())\n",
    "print('Not on time pregnant female:',with_na[with_na['on_time']=='N']['enc_patient_id'].nunique())"
   ]
  },
  {
   "cell_type": "code",
   "execution_count": 449,
   "id": "cb808555-5385-4c72-9226-ede5e09c78f4",
   "metadata": {},
   "outputs": [
    {
     "data": {
      "text/plain": [
       "(959, 13)"
      ]
     },
     "execution_count": 449,
     "metadata": {},
     "output_type": "execute_result"
    }
   ],
   "source": [
    "concatenated_df = pd.concat([with_na, without_na])\n",
    "ontime=concatenated_df[(concatenated_df['on_time']=='Y') & (concatenated_df['enc_status'].isin(['Completed','Compeleted']))]\n",
    "ontime.shape"
   ]
  },
  {
   "cell_type": "code",
   "execution_count": 450,
   "id": "f386735f-2c7e-428b-b5dc-84e374c22dbf",
   "metadata": {},
   "outputs": [
    {
     "data": {
      "text/plain": [
       "313"
      ]
     },
     "execution_count": 450,
     "metadata": {},
     "output_type": "execute_result"
    }
   ],
   "source": [
    "ontime['enc_patient_id'].nunique()"
   ]
  },
  {
   "cell_type": "code",
   "execution_count": 454,
   "id": "05361f0b-7473-4410-8c91-1d61e96b9059",
   "metadata": {},
   "outputs": [
    {
     "data": {
      "text/html": [
       "<div>\n",
       "<style scoped>\n",
       "    .dataframe tbody tr th:only-of-type {\n",
       "        vertical-align: middle;\n",
       "    }\n",
       "\n",
       "    .dataframe tbody tr th {\n",
       "        vertical-align: top;\n",
       "    }\n",
       "\n",
       "    .dataframe thead th {\n",
       "        text-align: right;\n",
       "    }\n",
       "</style>\n",
       "<table border=\"1\" class=\"dataframe\">\n",
       "  <thead>\n",
       "    <tr style=\"text-align: right;\">\n",
       "      <th></th>\n",
       "      <th>enc_patient_id</th>\n",
       "      <th>visit_prov_id</th>\n",
       "      <th>enc_status</th>\n",
       "      <th>enc_date</th>\n",
       "      <th>due_date</th>\n",
       "      <th>gender</th>\n",
       "      <th>birth_date</th>\n",
       "      <th>pat_loc_id</th>\n",
       "      <th>pat_pcp_id</th>\n",
       "      <th>age</th>\n",
       "      <th>on_time</th>\n",
       "    </tr>\n",
       "  </thead>\n",
       "  <tbody>\n",
       "    <tr>\n",
       "      <th>2318</th>\n",
       "      <td>44447</td>\n",
       "      <td>20</td>\n",
       "      <td>Completed</td>\n",
       "      <td>2016-02-24</td>\n",
       "      <td>NaT</td>\n",
       "      <td>F</td>\n",
       "      <td>1980-01-27</td>\n",
       "      <td>1</td>\n",
       "      <td>39</td>\n",
       "      <td>36.101370</td>\n",
       "      <td>Y</td>\n",
       "    </tr>\n",
       "    <tr>\n",
       "      <th>2319</th>\n",
       "      <td>44447</td>\n",
       "      <td>19</td>\n",
       "      <td>Completed</td>\n",
       "      <td>2016-02-18</td>\n",
       "      <td>NaT</td>\n",
       "      <td>F</td>\n",
       "      <td>1980-01-27</td>\n",
       "      <td>1</td>\n",
       "      <td>39</td>\n",
       "      <td>36.084932</td>\n",
       "      <td>Y</td>\n",
       "    </tr>\n",
       "    <tr>\n",
       "      <th>3321</th>\n",
       "      <td>36327</td>\n",
       "      <td>24</td>\n",
       "      <td>Completed</td>\n",
       "      <td>2016-11-30</td>\n",
       "      <td>NaT</td>\n",
       "      <td>F</td>\n",
       "      <td>1964-10-03</td>\n",
       "      <td>5</td>\n",
       "      <td>31</td>\n",
       "      <td>52.194521</td>\n",
       "      <td>Y</td>\n",
       "    </tr>\n",
       "    <tr>\n",
       "      <th>3327</th>\n",
       "      <td>36327</td>\n",
       "      <td>3</td>\n",
       "      <td>Completed</td>\n",
       "      <td>2016-11-15</td>\n",
       "      <td>NaT</td>\n",
       "      <td>F</td>\n",
       "      <td>1964-10-03</td>\n",
       "      <td>5</td>\n",
       "      <td>31</td>\n",
       "      <td>52.153425</td>\n",
       "      <td>Y</td>\n",
       "    </tr>\n",
       "    <tr>\n",
       "      <th>5352</th>\n",
       "      <td>19882</td>\n",
       "      <td>33</td>\n",
       "      <td>Completed</td>\n",
       "      <td>2016-09-19</td>\n",
       "      <td>NaT</td>\n",
       "      <td>F</td>\n",
       "      <td>1963-05-20</td>\n",
       "      <td>10</td>\n",
       "      <td>40</td>\n",
       "      <td>53.372603</td>\n",
       "      <td>Y</td>\n",
       "    </tr>\n",
       "  </tbody>\n",
       "</table>\n",
       "</div>"
      ],
      "text/plain": [
       "      enc_patient_id  visit_prov_id enc_status   enc_date due_date gender  \\\n",
       "2318           44447             20  Completed 2016-02-24      NaT      F   \n",
       "2319           44447             19  Completed 2016-02-18      NaT      F   \n",
       "3321           36327             24  Completed 2016-11-30      NaT      F   \n",
       "3327           36327              3  Completed 2016-11-15      NaT      F   \n",
       "5352           19882             33  Completed 2016-09-19      NaT      F   \n",
       "\n",
       "     birth_date  pat_loc_id  pat_pcp_id        age on_time  \n",
       "2318 1980-01-27           1          39  36.101370       Y  \n",
       "2319 1980-01-27           1          39  36.084932       Y  \n",
       "3321 1964-10-03           5          31  52.194521       Y  \n",
       "3327 1964-10-03           5          31  52.153425       Y  \n",
       "5352 1963-05-20          10          40  53.372603       Y  "
      ]
     },
     "execution_count": 454,
     "metadata": {},
     "output_type": "execute_result"
    }
   ],
   "source": [
    "ontime.iloc[:, list(range(1, 6)) + list(range(7, ontime.shape[1]))].head()"
   ]
  },
  {
   "cell_type": "code",
   "execution_count": 455,
   "id": "a4817e40-eb94-41e2-a6fe-7229af46023b",
   "metadata": {},
   "outputs": [
    {
     "data": {
      "text/plain": [
       "0.11928353658536585"
      ]
     },
     "execution_count": 455,
     "metadata": {},
     "output_type": "execute_result"
    }
   ],
   "source": [
    "ontime_uni_patient=concatenated_df[(concatenated_df['on_time']=='Y') & (concatenated_df['enc_status'].isin(['Completed','Compeleted']))]['enc_patient_id'].nunique()\n",
    "total_uni_patient=concatenated_df['enc_patient_id'].nunique()\n",
    "ontime_uni_patient/total_uni_patient"
   ]
  },
  {
   "cell_type": "code",
   "execution_count": 463,
   "id": "3a8d7404-817b-4f9c-ae07-0ab1f25075e5",
   "metadata": {},
   "outputs": [
    {
     "data": {
      "image/png": "[encoded data removed]",
      "text/plain": [
       "<Figure size 640x480 with 1 Axes>"
      ]
     },
     "metadata": {},
     "output_type": "display_data"
    }
   ],
   "source": [
    "bars=plt.bar(['On time pregnant females','Not on time pregnant females'], [ontime_uni_patient,total_uni_patient-ontime_uni_patient])\n",
    "for bar in bars:\n",
    "    yval = bar.get_height()\n",
    "    plt.text(bar.get_x() + bar.get_width()/2, yval + 0.05, round(yval, 2), va='bottom', ha='center')\n",
    "plt.title('pregnant females who visited OBGYN provider in a timely manner or not')\n",
    "plt.ylabel('Number of Patient')\n",
    "# 显示图形\n",
    "plt.show()"
   ]
  },
  {
   "cell_type": "code",
   "execution_count": 459,
   "id": "37806db3-3b16-4151-85d8-84a50134a8b2",
   "metadata": {},
   "outputs": [],
   "source": [
    "ontime.to_csv('D:\\OneDrive\\桌面\\RE_Re：MAPMG Technical Assessment - cannot find at20230927042517\\Pregnancy Assessment\\ontime.csv')"
   ]
  },
  {
   "cell_type": "code",
   "execution_count": 422,
   "id": "40cec39f-f65d-4bcf-b617-614c9435c6b1",
   "metadata": {},
   "outputs": [
    {
     "data": {
      "text/plain": [
       "89210     O30003 \n",
       "294657    S52043F\n",
       "294658    H10229 \n",
       "294659    V8011XD\n",
       "Name: dx_icd, dtype: object"
      ]
     },
     "execution_count": 422,
     "metadata": {},
     "output_type": "execute_result"
    }
   ],
   "source": [
    "encounter_dx[encounter_dx['dx_enc_id']==112943]['dx_icd']"
   ]
  },
  {
   "cell_type": "code",
   "execution_count": 421,
   "id": "c54aed65-19ef-4320-8dad-cfe45cd065d4",
   "metadata": {},
   "outputs": [
    {
     "data": {
      "text/plain": [
       "89210     False\n",
       "294657    False\n",
       "294658    False\n",
       "294659    False\n",
       "Name: dx_icd, dtype: bool"
      ]
     },
     "execution_count": 421,
     "metadata": {},
     "output_type": "execute_result"
    }
   ],
   "source": [
    "encounter_dx[encounter_dx['dx_enc_id']==112943]['dx_icd'].isin(pregnance_code['code'].values)"
   ]
  },
  {
   "cell_type": "code",
   "execution_count": 415,
   "id": "dd6800c3-c54b-4069-a0a4-80cb8ff886b0",
   "metadata": {},
   "outputs": [
    {
     "data": {
      "text/html": [
       "<div>\n",
       "<style scoped>\n",
       "    .dataframe tbody tr th:only-of-type {\n",
       "        vertical-align: middle;\n",
       "    }\n",
       "\n",
       "    .dataframe tbody tr th {\n",
       "        vertical-align: top;\n",
       "    }\n",
       "\n",
       "    .dataframe thead th {\n",
       "        text-align: right;\n",
       "    }\n",
       "</style>\n",
       "<table border=\"1\" class=\"dataframe\">\n",
       "  <thead>\n",
       "    <tr style=\"text-align: right;\">\n",
       "      <th></th>\n",
       "      <th>code</th>\n",
       "    </tr>\n",
       "  </thead>\n",
       "  <tbody>\n",
       "    <tr>\n",
       "      <th>358</th>\n",
       "      <td>O30003</td>\n",
       "    </tr>\n",
       "  </tbody>\n",
       "</table>\n",
       "</div>"
      ],
      "text/plain": [
       "       code\n",
       "358  O30003"
      ]
     },
     "execution_count": 415,
     "metadata": {},
     "output_type": "execute_result"
    }
   ],
   "source": [
    "pregnance_code[pregnance_code['code']=='O30003']"
   ]
  },
  {
   "cell_type": "code",
   "execution_count": 423,
   "id": "1109a208-3344-459a-ad38-670a3d01f492",
   "metadata": {},
   "outputs": [
    {
     "data": {
      "text/plain": [
       "True"
      ]
     },
     "execution_count": 423,
     "metadata": {},
     "output_type": "execute_result"
    }
   ],
   "source": [
    "'O30003' in pregnance_code['code'].values"
   ]
  },
  {
   "cell_type": "code",
   "execution_count": 419,
   "id": "61e8c34d-c6d0-4e5c-83c9-0e965329516a",
   "metadata": {},
   "outputs": [
    {
     "name": "stdout",
     "output_type": "stream",
     "text": [
      "<class 'pandas.core.frame.DataFrame'>\n",
      "RangeIndex: 391641 entries, 0 to 391640\n",
      "Data columns (total 5 columns):\n",
      " #   Column     Non-Null Count   Dtype \n",
      "---  ------     --------------   ----- \n",
      " 0   dx_enc_id  391641 non-null  int64 \n",
      " 1   dx_line    391641 non-null  int64 \n",
      " 2   dx_icd     391641 non-null  object\n",
      " 3   pregancy   391641 non-null  object\n",
      " 4   pregnancy  9338 non-null    object\n",
      "dtypes: int64(2), object(3)\n",
      "memory usage: 14.9+ MB\n"
     ]
    }
   ],
   "source": [
    "encounter_dx.info()"
   ]
  },
  {
   "cell_type": "code",
   "execution_count": 424,
   "id": "26b6adc3-d571-439a-9be2-b2a6c08ad7d4",
   "metadata": {},
   "outputs": [
    {
     "data": {
      "text/plain": [
       "('O30003 ', 'O30003', False, True)"
      ]
     },
     "execution_count": 424,
     "metadata": {},
     "output_type": "execute_result"
    }
   ],
   "source": [
    "# Extracting the 'dx_icd' value for the problematic row\n",
    "problematic_dx_icd = encounter_dx.loc[89210, 'dx_icd']\n",
    "\n",
    "# Checking its value, stripped value, and if it equals 'O30003'\n",
    "(problematic_dx_icd, \n",
    " problematic_dx_icd.strip(), \n",
    " problematic_dx_icd == 'O30003', \n",
    " problematic_dx_icd.strip() == 'O30003')\n"
   ]
  },
  {
   "cell_type": "code",
   "execution_count": null,
   "id": "3f639c0d-b2c1-4cfd-8f7d-c9d23832ccc0",
   "metadata": {},
   "outputs": [],
   "source": []
  }
 ],
 "metadata": {
  "kernelspec": {
   "display_name": "Python 3 (ipykernel)",
   "language": "python",
   "name": "python3"
  },
  "language_info": {
   "codemirror_mode": {
    "name": "ipython",
    "version": 3
   },
   "file_extension": ".py",
   "mimetype": "text/x-python",
   "name": "python",
   "nbconvert_exporter": "python",
   "pygments_lexer": "ipython3",
   "version": "3.11.4"
  }
 },
 "nbformat": 4,
 "nbformat_minor": 5
}
